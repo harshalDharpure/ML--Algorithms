{
  "nbformat": 4,
  "nbformat_minor": 0,
  "metadata": {
    "colab": {
      "name": "K_Means Clustering.ipynb",
      "private_outputs": true,
      "provenance": [],
      "authorship_tag": "ABX9TyNLLjuXpYzvYKXakFVw0iFQ",
      "include_colab_link": true
    },
    "kernelspec": {
      "name": "python3",
      "display_name": "Python 3"
    },
    "language_info": {
      "name": "python"
    }
  },
  "cells": [
    {
      "cell_type": "markdown",
      "metadata": {
        "id": "view-in-github",
        "colab_type": "text"
      },
      "source": [
        "<a href=\"https://colab.research.google.com/github/harshalDharpure/Machine-Learning-Algorithms/blob/main/K_Means_Clustering.ipynb\" target=\"_parent\"><img src=\"https://colab.research.google.com/assets/colab-badge.svg\" alt=\"Open In Colab\"/></a>"
      ]
    },
    {
      "cell_type": "code",
      "metadata": {
        "id": "iodXzPX8qIM6"
      },
      "source": [
        "import seaborn as sns\n",
        "import matplotlib.pyplot as plt\n",
        "%matplotlib inline"
      ],
      "execution_count": null,
      "outputs": []
    },
    {
      "cell_type": "code",
      "metadata": {
        "id": "NteGG14WqqIp"
      },
      "source": [
        "from sklearn.datasets import make_blobs\n",
        "data=make_blobs(n_samples=200,n_features=2,centers=4,cluster_std=1.8,random_state=101)\n",
        "plt.scatter(data[0][:,0],data[0][:,1],c=data[1],cmap='rainbow')"
      ],
      "execution_count": null,
      "outputs": []
    },
    {
      "cell_type": "code",
      "metadata": {
        "id": "7Jamh1QprbfU"
      },
      "source": [
        "from sklearn.cluster import KMeans\n",
        "kmeans=KMeans(n_clusters=4)\n",
        "kmeans.fit(data[0])\n",
        "kmeans.cluster_centers_\n"
      ],
      "execution_count": null,
      "outputs": []
    },
    {
      "cell_type": "code",
      "metadata": {
        "id": "b1Qnleicr6lu"
      },
      "source": [
        "kmeans.cluster_centers_"
      ],
      "execution_count": null,
      "outputs": []
    },
    {
      "cell_type": "code",
      "metadata": {
        "id": "lmq3d-g7r8rE"
      },
      "source": [
        "f, (ax1, ax2) = plt.subplots(1, 2, sharey=True,figsize=(10,6))\n",
        "ax1.set_title('K Means')\n",
        "ax1.scatter(data[0][:,0],data[0][:,1],c=kmeans.labels_,cmap='rainbow')\n",
        "ax2.set_title(\"Original\")\n",
        "ax2.scatter(data[0][:,0],data[0][:,1],c=data[1],cmap='rainbow')"
      ],
      "execution_count": null,
      "outputs": []
    },
    {
      "cell_type": "code",
      "metadata": {
        "id": "ZWGLhf6Sr-wB"
      },
      "source": [
        ""
      ],
      "execution_count": null,
      "outputs": []
    },
    {
      "cell_type": "code",
      "metadata": {
        "id": "1ClpXEYFrxWz"
      },
      "source": [
        ""
      ],
      "execution_count": null,
      "outputs": []
    }
  ]
}